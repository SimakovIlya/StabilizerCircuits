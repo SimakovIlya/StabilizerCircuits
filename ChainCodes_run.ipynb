{
 "cells": [
  {
   "cell_type": "code",
   "execution_count": 1,
   "metadata": {
    "ExecuteTime": {
     "end_time": "2020-10-20T13:40:14.263430Z",
     "start_time": "2020-10-20T13:40:14.153924Z"
    }
   },
   "outputs": [],
   "source": [
    "from ChainCodes import *\n",
    "\n",
    "import numpy as np\n",
    "from tqdm import tqdm\n",
    "from multiprocessing import Pool"
   ]
  },
  {
   "cell_type": "markdown",
   "metadata": {},
   "source": [
    "# Error params"
   ]
  },
  {
   "cell_type": "code",
   "execution_count": 2,
   "metadata": {
    "ExecuteTime": {
     "end_time": "2020-10-20T13:40:15.415841Z",
     "start_time": "2020-10-20T13:40:15.407849Z"
    }
   },
   "outputs": [],
   "source": [
    "T1 = 30 # Qubit relaxation time\n",
    "Tf = 60 # Qubit dephasing time\n",
    "Tg1Q = 0.02 # Single-qubit gate time\n",
    "Tg2Q = 0.04 # Two-qubit gate time\n",
    "tm = 0.3 # Measurement time\n",
    "td = 0.3 # Depletion time\n",
    "\n",
    "\n",
    "p_axis = 10**(-4) # In-axis rotation error\n",
    "p_plane = 5 * 10**(-4) # In-plane rotation error \n",
    "\n",
    "dphi = 0.01\n",
    "\n",
    "eta_origin = np.array([[0.9985, 0, 0.0015, 0],\n",
    "                       [0.005, 0.0015, 0.0149, 0.9788]])\n",
    "\n",
    "eta = np.zeros((2, 3))\n",
    "for i in range(0, 3):\n",
    "    eta[:, i] = np.sum(eta_origin[:, :i+1], axis = 1)\n",
    "eta\n",
    "\n",
    "\n",
    "#Hadamard_noise:\n",
    "ph = (1-np.exp(dphi**2/2))/(2-np.sqrt(2))\n",
    "# ph = 0\n",
    "\n",
    "# ZZ_noise\n",
    "pZZ = (1-np.exp(dphi**2/2))/2\n",
    "\n",
    "#measure\n",
    "p0 = eta_origin[0, 2] + eta_origin[0, 3]\n",
    "p1 = eta_origin[1, 0] + eta_origin[1, 1]\n",
    "\n",
    "\n",
    "\n",
    "# Tg1Q = 0.0 # Single-qubit gate time\n",
    "# Tg2Q = 0.0 # Two-qubit gate time\n",
    "# tm = 0 # Measurement time\n",
    "# td = 0 # Depletion time\n",
    "\n",
    "# p_axis = 0\n",
    "# p_plane = 0\n",
    "\n",
    "# #Hadamard_noise:\n",
    "# ph = 0\n",
    "\n",
    "# # ZZ_noise\n",
    "# pZZ = 0\n",
    "\n",
    "# #measure\n",
    "# p0 = 0\n",
    "# p1 = 0\n",
    "\n",
    "arg = {\n",
    "    'T1':        T1,\n",
    "    'Tf':        Tf,\n",
    "    'Tg1Q':      Tg1Q,\n",
    "    'Tg2Q':      Tg2Q,\n",
    "    'tm':        tm,\n",
    "    'td':        td,\n",
    "    'p_axis':    p_axis,\n",
    "    'p_plane':   p_plane,\n",
    "    'ph':        ph,\n",
    "    'pZZ':       pZZ,\n",
    "    'p0':        p0,\n",
    "    'p1':        p1\n",
    "}\n",
    "\n",
    "CC = ChainCodes(arg)"
   ]
  },
  {
   "cell_type": "markdown",
   "metadata": {},
   "source": [
    "# Run"
   ]
  },
  {
   "cell_type": "code",
   "execution_count": 6,
   "metadata": {
    "ExecuteTime": {
     "end_time": "2020-10-20T15:51:15.823084Z",
     "start_time": "2020-10-20T13:41:54.518844Z"
    }
   },
   "outputs": [
    {
     "name": "stderr",
     "output_type": "stream",
     "text": [
      "100%|█████████████████████████████████████████████████████████████████████| 1000000/1000000 [1:41:28<00:00, 164.25it/s]\n",
      "100%|██████████████████████████████████████████████████████████████████████| 1000000/1000000 [15:21<00:00, 1084.73it/s]\n"
     ]
    }
   ],
   "source": [
    "MultiProcessing = True\n",
    "N_process = 32\n",
    "N = 10\n",
    "fout = '_stab_instate'\n",
    "N_run = 1000000\n",
    "N_cycle = 20\n",
    "M_datanomeas = np.zeros((N_run, N_cycle, N//2), dtype = np.int8)\n",
    "M_ancillanomeas = np.zeros((N_run, N_cycle, N//2), dtype = np.int8)\n",
    "basis = '0'\n",
    "table = init_state0(N)\n",
    "odd = np.arange(N//2)*2 + 1\n",
    "Meas = []\n",
    "\n",
    "\n",
    "if basis == '1':\n",
    "    for i in odd:\n",
    "        table = X_gate(table, i)\n",
    "elif basis == '+':\n",
    "    for i in odd:\n",
    "        table = Ry05_gate(table, i)\n",
    "elif basis == '-':\n",
    "    for i in odd:\n",
    "        table = Ry_05_gate(table, i)\n",
    "elif basis == 'i+':\n",
    "    for i in odd:\n",
    "        table = Rx_05_gate(table, i)\n",
    "elif basis == 'i-':\n",
    "    for i in odd:\n",
    "        table = Rx05_gate(table, i)\n",
    "\n",
    "CC.set_full_Cycle(table, N, N_cycle, basis)\n",
    "if MultiProcessing:\n",
    "    with Pool(N_process) as p:\n",
    "        Meas = list(tqdm(p.imap(CC.full_Cycle, range(N_run)), total=N_run))\n",
    "else:\n",
    "    Meas = list(tqdm(map(CC.full_Cycle, range(N_run)), total=N_run))\n",
    "\n",
    "M_datanomeas = np.asarray(Meas, dtype=np.int8)[:,0]\n",
    "M_ancillanomeas = np.asarray(Meas, dtype=np.int8)[:,1]\n",
    "\n",
    "\n",
    "M_data = add_noise_to_measurements(M_datanomeas, p0, p1)\n",
    "M_ancilla = add_noise_to_measurements(M_ancillanomeas, p0, p1)\n",
    "\n",
    "\n",
    "for i in tqdm(range(N_run)):\n",
    "    for j in range(N_cycle):\n",
    "        M_ancillanomeas[i, j] = np.roll(M_ancillanomeas[i, j], 2*j)\n",
    "        M_datanomeas[i, j] = np.roll(M_datanomeas[i, j], -2*j)\n",
    "        M_ancilla[i, j] = np.roll(M_ancilla[i, j], 2*j)\n",
    "        M_data[i, j] = np.roll(M_data[i, j], -2*j)\n",
    "\n",
    "        \n",
    "np.savez_compressed('N' + str(N) + fout + basis + '_' + str(N_run), M_data = M_data, M_ancilla = M_ancilla,\\\n",
    "                           M_datanomeas = M_datanomeas, M_ancillanomeas = M_ancillanomeas)"
   ]
  },
  {
   "cell_type": "code",
   "execution_count": null,
   "metadata": {},
   "outputs": [],
   "source": []
  }
 ],
 "metadata": {
  "kernelspec": {
   "display_name": "Python 3",
   "language": "python",
   "name": "python3"
  },
  "language_info": {
   "codemirror_mode": {
    "name": "ipython",
    "version": 3
   },
   "file_extension": ".py",
   "mimetype": "text/x-python",
   "name": "python",
   "nbconvert_exporter": "python",
   "pygments_lexer": "ipython3",
   "version": "3.8.3"
  },
  "latex_envs": {
   "LaTeX_envs_menu_present": true,
   "autoclose": false,
   "autocomplete": true,
   "bibliofile": "biblio.bib",
   "cite_by": "apalike",
   "current_citInitial": 1,
   "eqLabelWithNumbers": true,
   "eqNumInitial": 1,
   "hotkeys": {
    "equation": "Ctrl-E",
    "itemize": "Ctrl-I"
   },
   "labels_anchors": false,
   "latex_user_defs": false,
   "report_style_numbering": false,
   "user_envs_cfg": false
  },
  "toc": {
   "base_numbering": 1,
   "nav_menu": {},
   "number_sections": true,
   "sideBar": true,
   "skip_h1_title": false,
   "title_cell": "Table of Contents",
   "title_sidebar": "Contents",
   "toc_cell": false,
   "toc_position": {
    "height": "calc(100% - 180px)",
    "left": "10px",
    "top": "150px",
    "width": "165px"
   },
   "toc_section_display": true,
   "toc_window_display": true
  }
 },
 "nbformat": 4,
 "nbformat_minor": 4
}
