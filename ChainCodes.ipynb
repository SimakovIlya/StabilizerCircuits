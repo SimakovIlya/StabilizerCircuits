{
 "cells": [
  {
   "cell_type": "code",
   "execution_count": 3,
   "metadata": {
    "ExecuteTime": {
     "end_time": "2020-10-20T12:05:56.064750Z",
     "start_time": "2020-10-20T12:05:55.868320Z"
    }
   },
   "outputs": [
    {
     "ename": "NameError",
     "evalue": "name 'table' is not defined",
     "output_type": "error",
     "traceback": [
      "\u001b[1;31m---------------------------------------------------------------------------\u001b[0m",
      "\u001b[1;31mNameError\u001b[0m                                 Traceback (most recent call last)",
      "\u001b[1;32m<ipython-input-3-3009c1e5f0c8>\u001b[0m in \u001b[0;36m<module>\u001b[1;34m\u001b[0m\n\u001b[0;32m      1\u001b[0m \u001b[1;32mfrom\u001b[0m \u001b[0mStabCircuits\u001b[0m \u001b[1;32mimport\u001b[0m \u001b[1;33m*\u001b[0m\u001b[1;33m\u001b[0m\u001b[1;33m\u001b[0m\u001b[0m\n\u001b[1;32m----> 2\u001b[1;33m \u001b[1;32mfrom\u001b[0m \u001b[0mforChainCodes\u001b[0m \u001b[1;32mimport\u001b[0m \u001b[0mcycle\u001b[0m\u001b[1;33m,\u001b[0m \u001b[0mfull_Cycle\u001b[0m\u001b[1;33m\u001b[0m\u001b[1;33m\u001b[0m\u001b[0m\n\u001b[0m\u001b[0;32m      3\u001b[0m \u001b[1;33m\u001b[0m\u001b[0m\n\u001b[0;32m      4\u001b[0m \u001b[1;32mimport\u001b[0m \u001b[0mnumpy\u001b[0m \u001b[1;32mas\u001b[0m \u001b[0mnp\u001b[0m\u001b[1;33m\u001b[0m\u001b[1;33m\u001b[0m\u001b[0m\n\u001b[0;32m      5\u001b[0m \u001b[1;32mimport\u001b[0m \u001b[0mmatplotlib\u001b[0m\u001b[1;33m.\u001b[0m\u001b[0mpyplot\u001b[0m \u001b[1;32mas\u001b[0m \u001b[0mplt\u001b[0m\u001b[1;33m\u001b[0m\u001b[1;33m\u001b[0m\u001b[0m\n",
      "\u001b[1;32m~\\Desktop\\QEC\\StabilizerCircuits\\forChainCodes.py\u001b[0m in \u001b[0;36m<module>\u001b[1;34m\u001b[0m\n\u001b[0;32m     78\u001b[0m \u001b[1;33m\u001b[0m\u001b[0m\n\u001b[0;32m     79\u001b[0m \u001b[1;33m\u001b[0m\u001b[0m\n\u001b[1;32m---> 80\u001b[1;33m \u001b[1;32mdef\u001b[0m \u001b[0mfull_Cycle\u001b[0m\u001b[1;33m(\u001b[0m\u001b[0mproc_num\u001b[0m\u001b[1;33m,\u001b[0m \u001b[0mtable\u001b[0m\u001b[1;33m=\u001b[0m\u001b[0mtable\u001b[0m\u001b[1;33m,\u001b[0m \u001b[0mN\u001b[0m\u001b[1;33m=\u001b[0m\u001b[0mN\u001b[0m\u001b[1;33m,\u001b[0m \u001b[0mN_cycle\u001b[0m\u001b[1;33m=\u001b[0m\u001b[0mN_cycle\u001b[0m\u001b[1;33m)\u001b[0m\u001b[1;33m:\u001b[0m\u001b[1;33m\u001b[0m\u001b[1;33m\u001b[0m\u001b[0m\n\u001b[0m\u001b[0;32m     81\u001b[0m     \u001b[0mM_datanomeas\u001b[0m \u001b[1;33m=\u001b[0m \u001b[0mnp\u001b[0m\u001b[1;33m.\u001b[0m\u001b[0mzeros\u001b[0m\u001b[1;33m(\u001b[0m\u001b[1;33m(\u001b[0m\u001b[0mN_cycle\u001b[0m\u001b[1;33m,\u001b[0m \u001b[0mN\u001b[0m\u001b[1;33m//\u001b[0m\u001b[1;36m2\u001b[0m\u001b[1;33m)\u001b[0m\u001b[1;33m,\u001b[0m \u001b[0mdtype\u001b[0m \u001b[1;33m=\u001b[0m \u001b[0mnp\u001b[0m\u001b[1;33m.\u001b[0m\u001b[0mint8\u001b[0m\u001b[1;33m)\u001b[0m\u001b[1;33m\u001b[0m\u001b[1;33m\u001b[0m\u001b[0m\n\u001b[0;32m     82\u001b[0m     \u001b[0mM_ancillanomeas\u001b[0m \u001b[1;33m=\u001b[0m \u001b[0mnp\u001b[0m\u001b[1;33m.\u001b[0m\u001b[0mzeros\u001b[0m\u001b[1;33m(\u001b[0m\u001b[1;33m(\u001b[0m\u001b[0mN_cycle\u001b[0m\u001b[1;33m,\u001b[0m \u001b[0mN\u001b[0m\u001b[1;33m//\u001b[0m\u001b[1;36m2\u001b[0m\u001b[1;33m)\u001b[0m\u001b[1;33m,\u001b[0m \u001b[0mdtype\u001b[0m \u001b[1;33m=\u001b[0m \u001b[0mnp\u001b[0m\u001b[1;33m.\u001b[0m\u001b[0mint8\u001b[0m\u001b[1;33m)\u001b[0m\u001b[1;33m\u001b[0m\u001b[1;33m\u001b[0m\u001b[0m\n",
      "\u001b[1;31mNameError\u001b[0m: name 'table' is not defined"
     ]
    }
   ],
   "source": [
    "from StabCircuits import *\n",
    "from forChainCodes import cycle, full_Cycle\n",
    "\n",
    "import numpy as np\n",
    "import matplotlib.pyplot as plt\n",
    "import matplotlib.cm as cm\n",
    "import matplotlib.ticker as ticker\n",
    "from scipy.optimize import curve_fit\n",
    "from scipy.optimize import least_squares\n",
    "from random import random\n",
    "import copy\n",
    "from tqdm import tqdm\n",
    "from multiprocessing import Pool"
   ]
  },
  {
   "cell_type": "markdown",
   "metadata": {},
   "source": [
    "# Error params"
   ]
  },
  {
   "cell_type": "code",
   "execution_count": 2,
   "metadata": {
    "ExecuteTime": {
     "end_time": "2020-10-20T11:02:23.869213Z",
     "start_time": "2020-10-20T11:02:23.858242Z"
    }
   },
   "outputs": [],
   "source": [
    "T1 = 30 # Qubit relaxation time\n",
    "Tf = 60 # Qubit dephasing time\n",
    "Tg1Q = 0.02 # Single-qubit gate time\n",
    "Tg2Q = 0.04 # Two-qubit gate time\n",
    "tm = 0.3 # Measurement time\n",
    "td = 0.3 # Depletion time\n",
    "\n",
    "\n",
    "p_axis = 10**(-4) # In-axis rotation error\n",
    "p_plane = 5 * 10**(-4) # In-plane rotation error \n",
    "\n",
    "dphi = 0.01\n",
    "\n",
    "eta_origin = np.array([[0.9985, 0, 0.0015, 0],\n",
    "                       [0.005, 0.0015, 0.0149, 0.9788]])\n",
    "\n",
    "eta = np.zeros((2, 3))\n",
    "for i in range(0, 3):\n",
    "    eta[:, i] = np.sum(eta_origin[:, :i+1], axis = 1)\n",
    "eta\n",
    "\n",
    "\n",
    "#Hadamard_noise:\n",
    "ph = (1-np.exp(dphi**2/2))/(2-np.sqrt(2))\n",
    "# ph = 0\n",
    "\n",
    "# ZZ_noise\n",
    "pZZ = (1-np.exp(dphi**2/2))/2\n",
    "\n",
    "#measure\n",
    "p0 = eta_origin[0, 2] + eta_origin[0, 3]\n",
    "p1 = eta_origin[1, 0] + eta_origin[1, 1]"
   ]
  },
  {
   "cell_type": "code",
   "execution_count": 3,
   "metadata": {
    "ExecuteTime": {
     "end_time": "2020-10-20T11:02:24.230109Z",
     "start_time": "2020-10-20T11:02:24.227104Z"
    }
   },
   "outputs": [],
   "source": [
    "# Tg1Q = 0.0 # Single-qubit gate time\n",
    "# Tg2Q = 0.0 # Two-qubit gate time\n",
    "# tm = 0 # Measurement time\n",
    "# td = 0 # Depletion time\n",
    "\n",
    "# p_axis = 0\n",
    "# p_plane = 0\n",
    "\n",
    "# #Hadamard_noise:\n",
    "# ph = 0\n",
    "\n",
    "# # ZZ_noise\n",
    "# pZZ = 0\n",
    "\n",
    "# #measure\n",
    "# p0 = 0\n",
    "# p1 = 0"
   ]
  },
  {
   "cell_type": "markdown",
   "metadata": {},
   "source": [
    "# MultiProcessing"
   ]
  },
  {
   "cell_type": "code",
   "execution_count": null,
   "metadata": {
    "ExecuteTime": {
     "end_time": "2020-10-20T11:02:47.846706Z",
     "start_time": "2020-10-20T11:02:25.874717Z"
    }
   },
   "outputs": [
    {
     "name": "stderr",
     "output_type": "stream",
     "text": [
      "\r",
      "  0%|                                                                                         | 0/1000 [00:00<?, ?it/s]"
     ]
    }
   ],
   "source": [
    "N_process = 8\n",
    "N = 10\n",
    "fout = '_stab_instate'\n",
    "N_run = 1000\n",
    "N_cycle = 20\n",
    "M_datanomeas = np.zeros((N_run, N_cycle, N//2), dtype = np.int8)\n",
    "M_ancillanomeas = np.zeros((N_run, N_cycle, N//2), dtype = np.int8)\n",
    "basis = '0'\n",
    "table = init_state0(N)\n",
    "odd = np.arange(N//2)*2 + 1\n",
    "Meas = []\n",
    "\n",
    "\n",
    "if basis == '1':\n",
    "    for i in odd:\n",
    "        table = X_gate(table, i)\n",
    "elif basis == '+':\n",
    "    for i in odd:\n",
    "        table = Ry05_gate(table, i)\n",
    "elif basis == '-':\n",
    "    for i in odd:\n",
    "        table = Ry_05_gate(table, i)\n",
    "elif basis == 'i+':\n",
    "    for i in odd:\n",
    "        table = Rx_05_gate(table, i)\n",
    "elif basis == 'i-':\n",
    "    for i in odd:\n",
    "        table = Rx05_gate(table, i)\n",
    "\n",
    "\n",
    "with Pool(N_process) as p:\n",
    "    Meas = list(tqdm(p.imap(full_Cycle, range(N_run)), total=N_run))\n",
    "\n",
    "M_datanomeas = np.asarray(Meas, dtype=np.int8)[:,0]\n",
    "M_ancillanomeas = np.asarray(Meas, dtype=np.int8)[:,1]\n",
    "\n",
    "\n",
    "M_data = add_noise_to_measurements(M_datanomeas, p0, p1)\n",
    "M_ancilla = add_noise_to_measurements(M_ancillanomeas, p0, p1)\n",
    "\n",
    "\n",
    "for i in tqdm(range(N_run)):\n",
    "    for j in range(N_cycle):\n",
    "        M_ancillanomeas[i, j] = np.roll(M_ancillanomeas[i, j], 2*j)\n",
    "        M_datanomeas[i, j] = np.roll(M_datanomeas[i, j], -2*j)\n",
    "        M_ancilla[i, j] = np.roll(M_ancilla[i, j], 2*j)\n",
    "        M_data[i, j] = np.roll(M_data[i, j], -2*j)\n",
    "\n",
    "        \n",
    "np.savez_compressed('N' + str(N) + fout + basis + '_' + str(N_run), M_data = M_data, M_ancilla = M_ancilla,\\\n",
    "                           M_datanomeas = M_datanomeas, M_ancillanomeas = M_ancillanomeas)"
   ]
  },
  {
   "cell_type": "markdown",
   "metadata": {},
   "source": [
    "# Run"
   ]
  },
  {
   "cell_type": "code",
   "execution_count": 6,
   "metadata": {
    "ExecuteTime": {
     "end_time": "2020-10-19T21:27:04.937744Z",
     "start_time": "2020-10-19T21:27:04.135985Z"
    }
   },
   "outputs": [
    {
     "name": "stderr",
     "output_type": "stream",
     "text": [
      "100%|██████████| 10/10 [00:00<00:00, 13.19it/s]\n",
      "100%|██████████| 10/10 [00:00<00:00, 699.11it/s]\n"
     ]
    }
   ],
   "source": [
    "N = 10\n",
    "fout = '_stab_instate'\n",
    "N_run = 10\n",
    "N_cycle = 20\n",
    "M_datanomeas = np.zeros((N_run, N_cycle, N//2), dtype = np.int8)\n",
    "M_ancillanomeas = np.zeros((N_run, N_cycle, N//2), dtype = np.int8)\n",
    "basis = '0'\n",
    "table = init_state0(N)\n",
    "odd = np.arange(N//2)*2 + 1\n",
    "Meas = []\n",
    "\n",
    "\n",
    "if basis == '1':\n",
    "    for i in odd:\n",
    "        table = X_gate(table, i)\n",
    "elif basis == '+':\n",
    "    for i in odd:\n",
    "        table = Ry05_gate(table, i)\n",
    "elif basis == '-':\n",
    "    for i in odd:\n",
    "        table = Ry_05_gate(table, i)\n",
    "elif basis == 'i+':\n",
    "    for i in odd:\n",
    "        table = Rx_05_gate(table, i)\n",
    "elif basis == 'i-':\n",
    "    for i in odd:\n",
    "        table = Rx05_gate(table, i)\n",
    "        \n",
    "\n",
    "\n",
    "def full_Cycle(table=table, N=N, N_cycle=N_cycle):\n",
    "    M_datanomeas = np.zeros((N_cycle, N//2), dtype = np.int8)\n",
    "    M_ancillanomeas = np.zeros((N_cycle, N//2), dtype = np.int8)       \n",
    "    for n_cycle in range(0, N_cycle):\n",
    "        table, M_datanomeas[n_cycle], M_ancillanomeas[n_cycle] = cycle(table, N, basis)\n",
    "    return [M_datanomeas, M_ancillanomeas]\n",
    "\n",
    "for n_run in tqdm(range(N_run)):\n",
    "    Meas.append(full_Cycle())\n",
    "\n",
    "M_datanomeas = np.asarray(Meas, dtype=np.int8)[:,0]\n",
    "M_ancillanomeas = np.asarray(Meas, dtype=np.int8)[:,1]\n",
    "\n",
    "\n",
    "M_data = add_noise_to_measurements(M_datanomeas, p0, p1)\n",
    "M_ancilla = add_noise_to_measurements(M_ancillanomeas, p0, p1)\n",
    "\n",
    "\n",
    "for i in tqdm(range(N_run)):\n",
    "    for j in range(N_cycle):\n",
    "        M_ancillanomeas[i, j] = np.roll(M_ancillanomeas[i, j], 2*j)\n",
    "        M_datanomeas[i, j] = np.roll(M_datanomeas[i, j], -2*j)\n",
    "        M_ancilla[i, j] = np.roll(M_ancilla[i, j], 2*j)\n",
    "        M_data[i, j] = np.roll(M_data[i, j], -2*j)\n",
    "\n",
    "        \n",
    "np.savez_compressed('N' + str(N) + fout + basis + '_' + str(N_run), M_data = M_data, M_ancilla = M_ancilla,\\\n",
    "                           M_datanomeas = M_datanomeas, M_ancillanomeas = M_ancillanomeas)"
   ]
  },
  {
   "cell_type": "code",
   "execution_count": null,
   "metadata": {},
   "outputs": [],
   "source": []
  }
 ],
 "metadata": {
  "kernelspec": {
   "display_name": "Python 3",
   "language": "python",
   "name": "python3"
  },
  "language_info": {
   "codemirror_mode": {
    "name": "ipython",
    "version": 3
   },
   "file_extension": ".py",
   "mimetype": "text/x-python",
   "name": "python",
   "nbconvert_exporter": "python",
   "pygments_lexer": "ipython3",
   "version": "3.8.3"
  },
  "latex_envs": {
   "LaTeX_envs_menu_present": true,
   "autoclose": false,
   "autocomplete": true,
   "bibliofile": "biblio.bib",
   "cite_by": "apalike",
   "current_citInitial": 1,
   "eqLabelWithNumbers": true,
   "eqNumInitial": 1,
   "hotkeys": {
    "equation": "Ctrl-E",
    "itemize": "Ctrl-I"
   },
   "labels_anchors": false,
   "latex_user_defs": false,
   "report_style_numbering": false,
   "user_envs_cfg": false
  },
  "toc": {
   "base_numbering": 1,
   "nav_menu": {},
   "number_sections": true,
   "sideBar": true,
   "skip_h1_title": false,
   "title_cell": "Table of Contents",
   "title_sidebar": "Contents",
   "toc_cell": false,
   "toc_position": {
    "height": "calc(100% - 180px)",
    "left": "10px",
    "top": "150px",
    "width": "165px"
   },
   "toc_section_display": true,
   "toc_window_display": true
  }
 },
 "nbformat": 4,
 "nbformat_minor": 4
}
