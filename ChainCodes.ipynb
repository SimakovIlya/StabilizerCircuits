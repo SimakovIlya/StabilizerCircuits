{
 "cells": [
  {
   "cell_type": "code",
   "execution_count": 1,
   "metadata": {
    "ExecuteTime": {
     "end_time": "2021-02-04T07:44:08.892968Z",
     "start_time": "2021-02-04T07:44:08.432432Z"
    }
   },
   "outputs": [],
   "source": [
    "import numpy as np\n",
    "from copy import copy\n",
    "import numpy as np\n",
    "from random import random\n",
    "import matplotlib.pyplot as plt\n",
    "from tqdm.notebook import tqdm\n",
    "from multiprocessing import Pool\n",
    "from StabCircuits import *\n",
    "from ChainCodes import *"
   ]
  },
  {
   "cell_type": "code",
   "execution_count": 21,
   "metadata": {
    "ExecuteTime": {
     "end_time": "2021-02-04T07:33:38.698652Z",
     "start_time": "2021-02-04T07:33:38.665962Z"
    }
   },
   "outputs": [],
   "source": [
    "class ChainCodes:\n",
    "    def __init__(self, args):\n",
    "        self.T1 = args['T1']\n",
    "        self.Tf = args['Tf']\n",
    "        self.Tg1Q = args['Tg1Q']\n",
    "        self.Tg2Q = args['Tg2Q']\n",
    "        self.tm = args['tm']\n",
    "        self.td = args['td']\n",
    "        self.eta = args['eta']\n",
    "        # self.p_axis = args['p_axis']\n",
    "        # self.p_plane = args['p_plane']\n",
    "        \n",
    "        \n",
    "    \n",
    "    \n",
    "    def damping(self, table, q, t):\n",
    "        if random() < 1-np.exp(-t/self.T1/2):\n",
    "            table = X_gate(table, q)\n",
    "        if random() < 1-np.exp(-t/self.T1/2):\n",
    "            table = Y_gate(table, q)\n",
    "        if random() < 1-np.exp(-t/self.Tf):\n",
    "            table = Z_gate(table, q)\n",
    "        return table\n",
    "    \n",
    "\n",
    "\n",
    "\n",
    "    def cycle(self, table, n, basis):\n",
    "        # basis = '0', '1, '+', '-', 'i+', 'i-'\n",
    "        if (n - 10)%8 != 0:\n",
    "            print(\"Wrong n!!!\")\n",
    "        m_data = np.zeros((n//2), dtype=np.int8)\n",
    "        m_ancilla = np.zeros((n//2), dtype=np.int8)\n",
    "        m_data_ideal = np.zeros((n//2), dtype=np.int8)\n",
    "        m_ancilla_ideal = np.zeros((n//2), dtype=np.int8)\n",
    "        \n",
    "        even = np.arange(n//2)*2 # ancilla qubits\n",
    "        odd = np.arange(n//2)*2 + 1 # data qubits\n",
    "        \n",
    "        # correction cycle\n",
    "        for i in even:\n",
    "            table = self.damping(table, i, self.Tg1Q/2)\n",
    "            table = Hadamard(table, i)\n",
    "        for i in even:\n",
    "            table = self.damping(table, i, self.Tg1Q/2 + self.Tg2Q/2)\n",
    "            table = self.damping(table, i+1, self.Tg1Q + self.Tg2Q/2)\n",
    "            table = iSWAP(table, i, i+1)\n",
    "        for i in even:\n",
    "            table = self.damping(table, i, self.Tg1Q/2 + self.Tg2Q/2)\n",
    "            table = Phase(table, i)\n",
    "            table = Hadamard(table, i)\n",
    "        for i in odd:\n",
    "            table = self.damping(table, i, self.Tg1Q + self.Tg2Q)\n",
    "            table = self.damping(table, i+1, self.Tg1Q/2 + self.Tg2Q/2)\n",
    "            table = iSWAP(table, i, (i+1)%n)\n",
    "        for i in even:\n",
    "            table = self.damping(table, i, self.Tg2Q)\n",
    "            table = self.damping(table, i+1, self.Tg2Q)\n",
    "            table = iSWAP(table, i, i+1)\n",
    "        for i in even:\n",
    "            table = self.damping(table, i, self.Tg1Q/2 + self.Tg2Q/2)\n",
    "            table = Z_gate(table, i)\n",
    "            table = Hadamard(table, i)\n",
    "        for i in odd:\n",
    "            table = self.damping(table, i, self.Tg1Q + self.Tg2Q)\n",
    "            table = self.damping(table, i+1, self.Tg1Q/2 + self.Tg2Q/2)\n",
    "            table = iSWAP(table, i, (i+1)%n)\n",
    "        for i in even:\n",
    "            table = self.damping(table, i, self.Tg2Q/2 + self.Tg1Q/2)\n",
    "            table = self.damping(table, i+1, self.Tg2Q/2)\n",
    "            table = Hadamard(table, i)\n",
    "            table = Phase(table, i+1)\n",
    "            table = self.damping(table, i, self.Tg1Q/2)\n",
    "            table = self.damping(table, i+1, self.Tg1Q)\n",
    "\n",
    "            \n",
    "\n",
    "        # ancilla measurement\n",
    "        for i in even:\n",
    "            table, m_ancilla[i//2] = measure(table, i, self.eta)\n",
    "            table, m = measure(table, i)\n",
    "            if m == -1:\n",
    "                table = X_gate(table, i)\n",
    "        \n",
    "        # data measurement\n",
    "        table_tmp = copy(table)\n",
    "        table_tmp_ideal = copy(table)\n",
    "        for i in odd:\n",
    "            if basis == '+' or basis == '-':\n",
    "                table_tmp = Ry_05_gate(table_tmp, i)\n",
    "                table_tmp_ideal = Ry_05_gate(table_tmp_ideal, i)\n",
    "            elif basis == 'i+' or basis == 'i-':\n",
    "                table_tmp = Rx05_gate(table_tmp, i)\n",
    "                table_tmp_ideal = Rx05_gate(table_tmp_ideal, i)\n",
    "\n",
    "            table_tmp, m_data[(i-1)//2] = measure(table_tmp, i, self.eta)\n",
    "            table_tmp_ideal, m_data_ideal[(i-1)//2] = measure(table_tmp_ideal, i)\n",
    "        \n",
    "        for i in odd:\n",
    "            table = self.damping(table, i, self.tm+self.td)\n",
    "            \n",
    "            \n",
    "        return table, m_data_ideal.astype(np.int8), m_data.astype(np.int8), m_ancilla.astype(np.int8)\n",
    "\n",
    "\n",
    "\n",
    "\n",
    "    def set_full_Cycle(self, table, N, N_cycle, basis):\n",
    "        self.table = table\n",
    "        self.N = N\n",
    "        self.N_cycle = N_cycle\n",
    "        self.basis = basis\n",
    "\n",
    "\n",
    "\n",
    "\n",
    "    def full_Cycle(self, proc_num):\n",
    "        M_data_ideal = np.zeros((self.N_cycle, self.N//2), dtype = np.int8)\n",
    "        M_data = np.zeros((self.N_cycle, self.N//2), dtype = np.int8)\n",
    "        M_ancilla = np.zeros((self.N_cycle, self.N//2), dtype = np.int8)\n",
    "        for n_cycle in range(0, self.N_cycle):\n",
    "            table, M_data_ideal[n_cycle],\\\n",
    "                   M_data[n_cycle], M_ancilla[n_cycle] = self.cycle(self.table, self.N, self.basis)\n",
    "        return [M_data_ideal, M_data, M_ancilla]"
   ]
  },
  {
   "cell_type": "code",
   "execution_count": 4,
   "metadata": {
    "ExecuteTime": {
     "end_time": "2021-02-04T07:47:00.805665Z",
     "start_time": "2021-02-04T07:47:00.795764Z"
    }
   },
   "outputs": [
    {
     "name": "stdout",
     "output_type": "stream",
     "text": [
      "[[0.9985 0.9985 1.    ]\n",
      " [0.005  0.0065 0.0214]]\n"
     ]
    }
   ],
   "source": [
    "T1 = 30 # Qubit relaxation time\n",
    "Tf = 60 # Qubit dephasing time\n",
    "Tg1Q = 0.02 # Single-qubit gate time\n",
    "Tg2Q = 0.04 # Two-qubit gate time\n",
    "tm = 0.3 # Measurement time\n",
    "td = 0.3 # Depletion time\n",
    "\n",
    "\n",
    "# p_axis = 10**(-4) # In-axis rotation error\n",
    "# p_plane = 5 * 10**(-4) # In-plane rotation error \n",
    "\n",
    "# dphi = 0.01\n",
    "\n",
    "eta_origin = np.array([[0.9985, 0, 0.0015, 0],\n",
    "                       [0.005, 0.0015, 0.0149, 0.9788]])\n",
    "\n",
    "# eta_origin = np.array([[1, 0, 0., 0],\n",
    "#                        [0., 0., 0., 1]])\n",
    "\n",
    "eta = np.zeros((2, 3))\n",
    "for i in range(0, 3):\n",
    "    eta[:, i] = np.sum(eta_origin[:, :i+1], axis = 1)\n",
    "print(eta)\n",
    "\n",
    "\n",
    "\n",
    "# Tg1Q = 0.0 # Single-qubit gate time\n",
    "# Tg2Q = 0.0 # Two-qubit gate time\n",
    "# tm = 0 # Measurement time\n",
    "# td = 0 # Depletion time\n",
    "\n",
    "# p_axis = 0\n",
    "# p_plane = 0\n",
    "\n",
    "arg = {\n",
    "    'T1':        T1,\n",
    "    'Tf':        Tf,\n",
    "    'Tg1Q':      Tg1Q,\n",
    "    'Tg2Q':      Tg2Q,\n",
    "    'tm':        tm,\n",
    "    'td':        td,\n",
    "    'eta':       eta\n",
    "}\n",
    "\n",
    "CC = ChainCodes(arg)\n",
    "\n",
    "\n",
    "no_decoding_ideal_meas = [0.9878, 0.9194, 0.8578, 0.807, 0.7572, 0.7274, 0.696,  0.6756, 0.6546, 0.6364,\n",
    "                          0.6044, 0.5878, 0.5782, 0.5646, 0.554,  0.5468, 0.5312, 0.522, 0.5268, 0.5198]\n",
    "no_decoding_19000 = [0.94086842, 0.86075263, 0.79460526, 0.74111053, 0.69727368, 0.66065263,\n",
    " 0.63175789, 0.60793684, 0.59002632, 0.57212105, 0.55781053, 0.54898947,\n",
    " 0.53999474, 0.53286842, 0.52607368, 0.52111053, 0.51917368, 0.51610526,\n",
    " 0.51216316, 0.51022105]"
   ]
  },
  {
   "cell_type": "code",
   "execution_count": 5,
   "metadata": {
    "ExecuteTime": {
     "end_time": "2021-02-04T07:47:22.295737Z",
     "start_time": "2021-02-04T07:47:07.451883Z"
    }
   },
   "outputs": [
    {
     "data": {
      "application/vnd.jupyter.widget-view+json": {
       "model_id": "f5380992dbfc4f8084fd98b7cffd0ceb",
       "version_major": 2,
       "version_minor": 0
      },
      "text/plain": [
       "HBox(children=(FloatProgress(value=0.0, max=500.0), HTML(value='')))"
      ]
     },
     "metadata": {},
     "output_type": "display_data"
    },
    {
     "name": "stdout",
     "output_type": "stream",
     "text": [
      "\n"
     ]
    },
    {
     "data": {
      "application/vnd.jupyter.widget-view+json": {
       "model_id": "599f036419f945bbb6da1463bdbc1e3c",
       "version_major": 2,
       "version_minor": 0
      },
      "text/plain": [
       "HBox(children=(FloatProgress(value=0.0, max=500.0), HTML(value='')))"
      ]
     },
     "metadata": {},
     "output_type": "display_data"
    },
    {
     "name": "stdout",
     "output_type": "stream",
     "text": [
      "\n"
     ]
    }
   ],
   "source": [
    "MultiProcessing = True\n",
    "N_process = 8\n",
    "N = 10\n",
    "fout = '_stab_instate'\n",
    "N_run = 500\n",
    "N_cycle = 20\n",
    "M_datanomeas = np.zeros((N_run, N_cycle, N//2), dtype = np.int8)\n",
    "M_ancillanomeas = np.zeros((N_run, N_cycle, N//2), dtype = np.int8)\n",
    "basis = '0'\n",
    "table = init_state0(N)\n",
    "odd = np.arange(N//2)*2 + 1\n",
    "Meas = []\n",
    "\n",
    "\n",
    "if basis == '1':\n",
    "    for i in odd:\n",
    "        table = X_gate(table, i)\n",
    "elif basis == '+':\n",
    "    for i in odd:\n",
    "        table = Ry05_gate(table, i)\n",
    "elif basis == '-':\n",
    "    for i in odd:\n",
    "        table = Ry_05_gate(table, i)\n",
    "elif basis == 'i+':\n",
    "    for i in odd:\n",
    "        table = Rx_05_gate(table, i)\n",
    "elif basis == 'i-':\n",
    "    for i in odd:\n",
    "        table = Rx05_gate(table, i)\n",
    "\n",
    "CC.set_full_Cycle(table, N, N_cycle, basis)\n",
    "if MultiProcessing:\n",
    "    with Pool(N_process) as p:\n",
    "        Meas = list(tqdm(p.imap(CC.full_Cycle, range(N_run)), total=N_run))\n",
    "else:\n",
    "    Meas = list(tqdm(map(CC.full_Cycle, range(N_run)), total=N_run))\n",
    "\n",
    "M_data_ideal = np.asarray(Meas, dtype=np.int8)[:,0]\n",
    "M_data = np.asarray(Meas, dtype=np.int8)[:,1]\n",
    "M_ancilla = np.asarray(Meas, dtype=np.int8)[:,2]\n",
    "\n",
    "\n",
    "for i in tqdm(range(N_run)):\n",
    "    for j in range(N_cycle):\n",
    "        M_data_ideal[i, j] = np.roll(M_data_ideal[i, j], -2*j)\n",
    "        M_ancilla[i, j] = np.roll(M_ancilla[i, j], 2*j)\n",
    "        M_data[i, j] = np.roll(M_data[i, j], -2*j)\n",
    "\n",
    "        \n",
    "# np.savez_compressed('N' + str(N) + fout + basis + '_' + str(N_run), M_data = M_data, M_ancilla = M_ancilla,\\\n",
    "#                            M_datanomeas = M_datanomeas, M_ancillanomeas = M_ancillanomeas)"
   ]
  },
  {
   "cell_type": "code",
   "execution_count": 7,
   "metadata": {
    "ExecuteTime": {
     "end_time": "2021-02-04T07:47:41.520039Z",
     "start_time": "2021-02-04T07:47:41.345042Z"
    }
   },
   "outputs": [
    {
     "data": {
      "text/plain": [
       "[<matplotlib.lines.Line2D at 0x7fa0429b37d0>]"
      ]
     },
     "execution_count": 7,
     "metadata": {},
     "output_type": "execute_result"
    },
    {
     "data": {
      "image/png": "[encoded data removed]",
      "text/plain": [
       "<Figure size 432x288 with 1 Axes>"
      ]
     },
     "metadata": {
      "needs_background": "light"
     },
     "output_type": "display_data"
    }
   ],
   "source": [
    "def no_decoding(M_data):\n",
    "    return (np.mean(np.prod(M_data, axis=2), axis=0)+1)/2\n",
    "            \n",
    "plt.plot(np.linspace(1, 20, 20), no_decoding(M_data))\n",
    "plt.plot(np.linspace(1, 20, 20), no_decoding(M_data_ideal))\n",
    "\n",
    "plt.plot(np.linspace(1, 20, 20), no_decoding_ideal_meas, label='onlyT1, dens')\n",
    "plt.plot(np.linspace(1, 20, 20), no_decoding_19000, label='onlyT1, dens')"
   ]
  },
  {
   "cell_type": "code",
   "execution_count": 38,
   "metadata": {
    "ExecuteTime": {
     "end_time": "2021-02-03T21:16:49.888398Z",
     "start_time": "2021-02-03T21:16:49.882006Z"
    }
   },
   "outputs": [
    {
     "name": "stdout",
     "output_type": "stream",
     "text": [
      "[[ 1  1  1  1 -1  1  1 -1 -1 -1  1  1  1  1  1  1  1 -1 -1  1]]\n",
      "[[ 1  1  1  1 -1  1  1 -1 -1 -1  1  1  1  1  1  1  1 -1 -1 -1]]\n",
      "[[[-1  1  1 -1  1]\n",
      "  [-1  1  1 -1  1]\n",
      "  [-1  1  1 -1  1]\n",
      "  [-1  1  1 -1  1]\n",
      "  [-1 -1  1  1  1]\n",
      "  [ 1  1 -1  1  1]\n",
      "  [ 1  1 -1 -1  1]\n",
      "  [-1 -1  1  1  1]\n",
      "  [-1 -1  1  1  1]\n",
      "  [-1 -1  1  1  1]\n",
      "  [-1  1  1  1 -1]\n",
      "  [-1  1  1  1 -1]\n",
      "  [ 1  1  1 -1  1]\n",
      "  [-1  1 -1 -1 -1]\n",
      "  [-1  1 -1 -1 -1]\n",
      "  [-1  1 -1  1 -1]\n",
      "  [-1  1 -1 -1 -1]\n",
      "  [-1  1  1 -1 -1]\n",
      "  [-1  1  1 -1  1]\n",
      "  [ 1 -1 -1 -1  1]]]\n"
     ]
    }
   ],
   "source": [
    "print(np.prod(M_data_ideal, axis=2))\n",
    "print(np.prod(M_data, axis=2))\n",
    "print(M_ancilla)"
   ]
  },
  {
   "cell_type": "code",
   "execution_count": null,
   "metadata": {},
   "outputs": [],
   "source": []
  }
 ],
 "metadata": {
  "kernelspec": {
   "display_name": "Python 3",
   "language": "python",
   "name": "python3"
  },
  "language_info": {
   "codemirror_mode": {
    "name": "ipython",
    "version": 3
   },
   "file_extension": ".py",
   "mimetype": "text/x-python",
   "name": "python",
   "nbconvert_exporter": "python",
   "pygments_lexer": "ipython3",
   "version": "3.7.6"
  },
  "latex_envs": {
   "LaTeX_envs_menu_present": true,
   "autoclose": false,
   "autocomplete": true,
   "bibliofile": "biblio.bib",
   "cite_by": "apalike",
   "current_citInitial": 1,
   "eqLabelWithNumbers": true,
   "eqNumInitial": 1,
   "hotkeys": {
    "equation": "Ctrl-E",
    "itemize": "Ctrl-I"
   },
   "labels_anchors": false,
   "latex_user_defs": false,
   "report_style_numbering": false,
   "user_envs_cfg": false
  },
  "toc": {
   "base_numbering": 1,
   "nav_menu": {},
   "number_sections": true,
   "sideBar": true,
   "skip_h1_title": false,
   "title_cell": "Table of Contents",
   "title_sidebar": "Contents",
   "toc_cell": false,
   "toc_position": {
    "height": "calc(100% - 180px)",
    "left": "10px",
    "top": "150px",
    "width": "201px"
   },
   "toc_section_display": true,
   "toc_window_display": false
  },
  "varInspector": {
   "cols": {
    "lenName": 16,
    "lenType": 16,
    "lenVar": 40
   },
   "kernels_config": {
    "python": {
     "delete_cmd_postfix": "",
     "delete_cmd_prefix": "del ",
     "library": "var_list.py",
     "varRefreshCmd": "print(var_dic_list())"
    },
    "r": {
     "delete_cmd_postfix": ") ",
     "delete_cmd_prefix": "rm(",
     "library": "var_list.r",
     "varRefreshCmd": "cat(var_dic_list()) "
    }
   },
   "types_to_exclude": [
    "module",
    "function",
    "builtin_function_or_method",
    "instance",
    "_Feature"
   ],
   "window_display": false
  }
 },
 "nbformat": 4,
 "nbformat_minor": 4
}
