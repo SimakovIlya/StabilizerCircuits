{
 "cells": [
  {
   "cell_type": "code",
   "execution_count": 1,
   "metadata": {
    "ExecuteTime": {
     "end_time": "2020-10-19T16:10:03.211299Z",
     "start_time": "2020-10-19T16:10:01.887697Z"
    }
   },
   "outputs": [],
   "source": [
    "import numpy as np\n",
    "import matplotlib.pyplot as plt\n",
    "import matplotlib.cm as cm\n",
    "import matplotlib.ticker as ticker\n",
    "from scipy.optimize import curve_fit\n",
    "from scipy.optimize import least_squares\n",
    "from random import random\n",
    "import copy as copy\n",
    "\n",
    "import sys\n",
    "sys.path.append(sys.path[0][:sys.path[0].rfind('/')])\n",
    "from StabilizerCircuits import *\n",
    "\n",
    "# !!!\n",
    "# IMPORTANT INFO\n",
    "# GATES AND MEASUREMENT CHANGE THE STATE EVEN IF THERE IS NO '='."
   ]
  },
  {
   "cell_type": "code",
   "execution_count": 2,
   "metadata": {
    "ExecuteTime": {
     "end_time": "2020-07-05T09:14:10.811914Z",
     "start_time": "2020-07-05T09:14:10.805112Z"
    }
   },
   "outputs": [],
   "source": [
    "def non_clifford_gate(tableau, a, probabilities, gates):\n",
    "    if len(probabilities) != len(gates):\n",
    "        print('Error in non_clifford_gate')\n",
    "    prob = random()\n",
    "    for i in range(len(probabilities)):\n",
    "        if p <= probabilities[i]:\n",
    "            tableau = gates[i](tableau, a)\n",
    "            break\n",
    "        else:\n",
    "            p -= probabilities[i]\n",
    "    return tableau"
   ]
  },
  {
   "cell_type": "markdown",
   "metadata": {},
   "source": [
    "# Intro"
   ]
  },
  {
   "cell_type": "code",
   "execution_count": 3,
   "metadata": {
    "ExecuteTime": {
     "end_time": "2020-07-05T09:14:12.411679Z",
     "start_time": "2020-07-05T09:14:12.403140Z"
    }
   },
   "outputs": [
    {
     "data": {
      "text/plain": [
       "['+ZIIIIIIIII',\n",
       " '+IZIIIIIIII',\n",
       " '+IIZIIIIIII',\n",
       " '+IIIZIIIIII',\n",
       " '+IIIIZIIIII',\n",
       " '+IIIIIZIIII',\n",
       " '+IIIIIIZIII',\n",
       " '+IIIIIIIZII',\n",
       " '+IIIIIIIIZI',\n",
       " '+IIIIIIIIIZ',\n",
       " '+XIIIIIIIII',\n",
       " '+IXIIIIIIII',\n",
       " '+IIXIIIIIII',\n",
       " '+IIIXIIIIII',\n",
       " '+IIIIXIIIII',\n",
       " '+IIIIIXIIII',\n",
       " '+IIIIIIXIII',\n",
       " '+IIIIIIIXII',\n",
       " '+IIIIIIIIXI',\n",
       " '+IIIIIIIIIX']"
      ]
     },
     "execution_count": 3,
     "metadata": {},
     "output_type": "execute_result"
    }
   ],
   "source": [
    "# initialize state |00..00>\n",
    "n = 10\n",
    "table = init_state0(n)\n",
    "# get stabilizers (first half of the list) and destabilizers (second half) of the state\n",
    "get_stabilizers(table)"
   ]
  },
  {
   "cell_type": "code",
   "execution_count": 4,
   "metadata": {
    "ExecuteTime": {
     "end_time": "2020-07-05T09:14:12.895783Z",
     "start_time": "2020-07-05T09:14:12.879792Z"
    }
   },
   "outputs": [
    {
     "name": "stdout",
     "output_type": "stream",
     "text": [
      "0 1\n",
      "1 1\n",
      "2 -1\n",
      "3 1\n",
      "4 1\n",
      "5 1\n",
      "6 -1\n",
      "7 1\n",
      "8 1\n",
      "9 -1\n",
      "10 1\n",
      "11 -1\n",
      "12 1\n",
      "13 1\n",
      "14 1\n",
      "15 1\n",
      "16 1\n",
      "17 1\n",
      "18 1\n",
      "19 1\n",
      "20 1\n",
      "21 1\n",
      "22 1\n",
      "23 1\n",
      "24 1\n",
      "25 1\n",
      "26 1\n",
      "27 1\n",
      "28 1\n",
      "29 1\n",
      "30 1\n",
      "31 1\n",
      "32 1\n",
      "33 1\n",
      "34 1\n",
      "35 1\n",
      "36 1\n",
      "37 1\n",
      "38 1\n",
      "39 1\n",
      "40 1\n",
      "41 1\n",
      "42 1\n",
      "43 1\n",
      "44 1\n",
      "45 1\n",
      "46 1\n",
      "47 1\n",
      "48 1\n",
      "49 1\n"
     ]
    }
   ],
   "source": [
    "# create circuit of 50 qubis, make some gates and measure!\n",
    "n = 50 # n > 12\n",
    "table = init_state0(n)\n",
    "\n",
    "table = X_gate(table, 9)\n",
    "table = CNOT(table, 9, 11)\n",
    "table = Hadamard(table, 2)\n",
    "table = X_gate(table, 5)\n",
    "table = iSWAP(table, 5, 6)\n",
    "\n",
    "for i in range(n):\n",
    "    table, m = measure(table, i)\n",
    "    print(i, m)"
   ]
  },
  {
   "cell_type": "markdown",
   "metadata": {},
   "source": [
    "# Time damping single qubit"
   ]
  },
  {
   "cell_type": "code",
   "execution_count": 5,
   "metadata": {
    "ExecuteTime": {
     "end_time": "2020-07-05T09:14:15.243261Z",
     "start_time": "2020-07-05T09:14:14.155595Z"
    }
   },
   "outputs": [
    {
     "data": {
      "text/plain": [
       "<matplotlib.collections.PathCollection at 0x7f88968606d0>"
      ]
     },
     "execution_count": 5,
     "metadata": {},
     "output_type": "execute_result"
    },
    {
     "data": {
      "image/png": "[encoded data removed]",
      "text/plain": [
       "<Figure size 432x288 with 1 Axes>"
      ]
     },
     "metadata": {
      "needs_background": "light"
     },
     "output_type": "display_data"
    }
   ],
   "source": [
    "def single_qubit_theory(N_cycle, t_cycle, T1, Tf):\n",
    "    time = np.linspace(0, N_cycle*t_cycle, 1000)\n",
    "    F_phys = 1/6 * (1 + np.exp(-time/T1)) + 1/3 * (1 + np.exp(-time*(1/2/T1+1/Tf)))\n",
    "    epsilon = t_cycle/3/T1 + t_cycle/3/Tf\n",
    "    return(time/t_cycle, F_phys, epsilon)\n",
    "\n",
    "\n",
    "n = 1\n",
    "N = 1000\n",
    "m = np.zeros((N, 21))\n",
    "m0 = np.zeros((N, 21))\n",
    "T1 = 30\n",
    "t = 0.84\n",
    "for k in range(N):\n",
    "    table = init_state0(n)\n",
    "    for i in range(0, 21):\n",
    "        table, m[k, i] = measure(table, 0)\n",
    "        table = amplitude_damping(table, 0, t, T1)\n",
    "        \n",
    "# for k in range(N):\n",
    "#     table = init_state0(n)\n",
    "#     table = X_gate(table, 0)\n",
    "#     for i in range(0, 21):\n",
    "#         table, m0[k, i] = measure(table, 0)\n",
    "#         table = amplitude_damping(table, 0, t, T1)\n",
    "\n",
    "theory = single_qubit_theory(N_cycle = 20, t_cycle = 0.84, T1 = T1, Tf = 60)\n",
    "plt.plot(theory[0], theory[1])\n",
    "plt.scatter(np.linspace(0, 20, 21), (np.mean(m, axis = 0)+1)/2)"
   ]
  },
  {
   "cell_type": "code",
   "execution_count": 6,
   "metadata": {
    "ExecuteTime": {
     "end_time": "2020-07-05T09:09:56.731368Z",
     "start_time": "2020-07-05T09:09:56.724710Z"
    }
   },
   "outputs": [
    {
     "data": {
      "text/plain": [
       "array([1.   , 0.948, 0.892, 0.86 , 0.808, 0.764, 0.728, 0.676, 0.634,\n",
       "       0.602, 0.544, 0.502, 0.494, 0.478, 0.458, 0.444, 0.424, 0.396,\n",
       "       0.378, 0.376, 0.356])"
      ]
     },
     "execution_count": 6,
     "metadata": {},
     "output_type": "execute_result"
    }
   ],
   "source": [
    "np.mean(m, axis = 0)"
   ]
  },
  {
   "cell_type": "code",
   "execution_count": null,
   "metadata": {},
   "outputs": [],
   "source": []
  },
  {
   "cell_type": "code",
   "execution_count": null,
   "metadata": {},
   "outputs": [],
   "source": []
  },
  {
   "cell_type": "code",
   "execution_count": null,
   "metadata": {},
   "outputs": [],
   "source": []
  },
  {
   "cell_type": "code",
   "execution_count": 11,
   "metadata": {
    "ExecuteTime": {
     "end_time": "2020-07-05T08:44:02.741595Z",
     "start_time": "2020-07-05T08:44:02.735083Z"
    }
   },
   "outputs": [
    {
     "name": "stdout",
     "output_type": "stream",
     "text": [
      "1\n",
      "-1\n",
      "-1\n"
     ]
    }
   ],
   "source": [
    "table = init_state0(n)\n",
    "table = Hadamard(table, 0)\n",
    "\n",
    "table_tmp, m = measure(table.copy(), 0)\n",
    "print(m)\n",
    "table, m = measure(table, 0)\n",
    "print(m)\n",
    "table, m = measure(table, 0)\n",
    "print(m)"
   ]
  },
  {
   "cell_type": "code",
   "execution_count": null,
   "metadata": {},
   "outputs": [],
   "source": []
  },
  {
   "cell_type": "markdown",
   "metadata": {},
   "source": [
    "# Ideal [5,1,3]"
   ]
  },
  {
   "cell_type": "code",
   "execution_count": 6,
   "metadata": {
    "ExecuteTime": {
     "end_time": "2020-07-04T13:19:45.271304Z",
     "start_time": "2020-07-04T13:19:45.257847Z"
    }
   },
   "outputs": [],
   "source": [
    "def cycle10(table):\n",
    "    n = 10\n",
    "    m_data = np.zeros((n//2))\n",
    "    m_ancilla = np.zeros((n//2))\n",
    "    \n",
    "    even = np.arange(n//2)*2 # ancilla qubits\n",
    "    odd = np.arange(n//2)*2 + 1 # data qubits\n",
    "    \n",
    "    # correction cycle\n",
    "    for i in even:\n",
    "        table = Hadamard(table, i)\n",
    "    for i in even:\n",
    "        table = iSWAP(table, i, i+1)\n",
    "    for i in even:\n",
    "        table = Phase(table, i)\n",
    "        table = Hadamard(table, i)\n",
    "    for i in odd:\n",
    "        table = iSWAP(table, i, (i+1)%n)\n",
    "    for i in even:\n",
    "        table = iSWAP(table, i, i+1)\n",
    "    for i in even:\n",
    "        table = Z_gate(table, i)\n",
    "        table = Hadamard(table, i)\n",
    "    for i in odd:\n",
    "        table = iSWAP(table, i, (i+1)%n)\n",
    "    for i in even:\n",
    "        table = Hadamard(table, i)\n",
    "        table = Phase(table, i+1)\n",
    "        \n",
    "        \n",
    "    # ancilla measurement\n",
    "    for i in even:\n",
    "        table, m_ancilla[i//2] = measure(table, i)\n",
    "        if m_ancilla[i//2] == -1:\n",
    "            table = X_gate(table, i)\n",
    "    \n",
    "    # data measurement\n",
    "    table_tmp = copy.copy(table)\n",
    "    for i in odd:\n",
    "        table_tmp, m_data[(i-1)//2] = measure(table_tmp, i)\n",
    "        \n",
    "    return table, m_data, m_ancilla"
   ]
  },
  {
   "cell_type": "code",
   "execution_count": 7,
   "metadata": {
    "ExecuteTime": {
     "end_time": "2020-07-04T13:32:08.986321Z",
     "start_time": "2020-07-04T13:32:08.899995Z"
    },
    "scrolled": true
   },
   "outputs": [
    {
     "name": "stdout",
     "output_type": "stream",
     "text": [
      "[[1. 1. 1. 1. 1. 1. 1. 1. 1. 1. 1. 1. 1. 1. 1. 1. 1. 1. 1. 1.]]\n"
     ]
    },
    {
     "data": {
      "text/plain": [
       "array([[[ 1., -1.,  1.,  1., -1.],\n",
       "        [ 1.,  1., -1.,  1., -1.],\n",
       "        [-1.,  1., -1.,  1.,  1.],\n",
       "        [-1.,  1.,  1., -1.,  1.],\n",
       "        [ 1., -1.,  1., -1.,  1.],\n",
       "        [ 1., -1.,  1.,  1., -1.],\n",
       "        [ 1.,  1., -1.,  1., -1.],\n",
       "        [-1.,  1., -1.,  1.,  1.],\n",
       "        [-1.,  1.,  1., -1.,  1.],\n",
       "        [ 1., -1.,  1., -1.,  1.],\n",
       "        [ 1., -1.,  1.,  1., -1.],\n",
       "        [ 1.,  1., -1.,  1., -1.],\n",
       "        [-1.,  1., -1.,  1.,  1.],\n",
       "        [-1.,  1.,  1., -1.,  1.],\n",
       "        [ 1., -1.,  1., -1.,  1.],\n",
       "        [ 1., -1.,  1.,  1., -1.],\n",
       "        [ 1.,  1., -1.,  1., -1.],\n",
       "        [-1.,  1., -1.,  1.,  1.],\n",
       "        [-1.,  1.,  1., -1.,  1.],\n",
       "        [ 1., -1.,  1., -1.,  1.]]])"
      ]
     },
     "execution_count": 7,
     "metadata": {},
     "output_type": "execute_result"
    }
   ],
   "source": [
    "N = 10\n",
    "N_run = 1\n",
    "N_cycle = 20\n",
    "M_data = np.zeros((N_run, N_cycle, N//2))\n",
    "M_ancilla = np.zeros((N_run, N_cycle, N//2))\n",
    "\n",
    "for n_run in range(0, N_run):\n",
    "    table = init_state0(N)\n",
    "    for n_cycle in range(0, N_cycle):\n",
    "        table, M_data[n_run, n_cycle], M_ancilla[n_run, n_cycle] = cycle10(table)\n",
    "\n",
    "print(np.prod(M_data, axis = 2))\n",
    "M_ancilla"
   ]
  }
 ],
 "metadata": {
  "kernelspec": {
   "display_name": "Python 3",
   "language": "python",
   "name": "python3"
  },
  "language_info": {
   "codemirror_mode": {
    "name": "ipython",
    "version": 3
   },
   "file_extension": ".py",
   "mimetype": "text/x-python",
   "name": "python",
   "nbconvert_exporter": "python",
   "pygments_lexer": "ipython3",
   "version": "3.8.3"
  },
  "latex_envs": {
   "LaTeX_envs_menu_present": true,
   "autoclose": false,
   "autocomplete": true,
   "bibliofile": "biblio.bib",
   "cite_by": "apalike",
   "current_citInitial": 1,
   "eqLabelWithNumbers": true,
   "eqNumInitial": 1,
   "hotkeys": {
    "equation": "Ctrl-E",
    "itemize": "Ctrl-I"
   },
   "labels_anchors": false,
   "latex_user_defs": false,
   "report_style_numbering": false,
   "user_envs_cfg": false
  },
  "toc": {
   "base_numbering": 1,
   "nav_menu": {},
   "number_sections": true,
   "sideBar": true,
   "skip_h1_title": false,
   "title_cell": "Table of Contents",
   "title_sidebar": "Contents",
   "toc_cell": false,
   "toc_position": {
    "height": "calc(100% - 180px)",
    "left": "10px",
    "top": "150px",
    "width": "165px"
   },
   "toc_section_display": true,
   "toc_window_display": true
  }
 },
 "nbformat": 4,
 "nbformat_minor": 4
}
